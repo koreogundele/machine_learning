{
 "cells": [
  {
   "cell_type": "markdown",
   "metadata": {},
   "source": [
    "### Code on this notebook is based on chapter 3 of Deep Learning for the Life Sciences\n",
    "Building a model to predict molecule toxicity.\n",
    "\n",
    "When using deepchem, start with a new environment. Conda (not pip) install deepchem and then its dependencies. God willing, this code will still work next time I come to run it."
   ]
  },
  {
   "cell_type": "code",
   "execution_count": 2,
   "metadata": {},
   "outputs": [],
   "source": [
    "import numpy as np\n",
    "import deepchem as dc"
   ]
  },
  {
   "cell_type": "markdown",
   "metadata": {},
   "source": [
    "DeepChem has a module names dc.molnet (molnet = MoleculeNet) which contains preprocessed datasets for ML."
   ]
  },
  {
   "cell_type": "code",
   "execution_count": 3,
   "metadata": {},
   "outputs": [],
   "source": [
    "# load tox21 toxicity dataset\n",
    "tox21_tasks, tox21_datasets, transformers = dc.molnet.load_tox21()\n",
    "training_dataset, validsation_dataset, test_dataset = tox21_datasets"
   ]
  },
  {
   "cell_type": "markdown",
   "metadata": {},
   "source": [
    "DeepChem's dc.models contains many different life science-specific models"
   ]
  },
  {
   "cell_type": "code",
   "execution_count": 9,
   "metadata": {},
   "outputs": [
    {
     "data": {
      "text/plain": [
       "0.8749472935994466"
      ]
     },
     "execution_count": 9,
     "metadata": {},
     "output_type": "execute_result"
    }
   ],
   "source": [
    "# build and train model\n",
    "model = dc.models.MultitaskClassifier(n_tasks=12, n_features=1024, layer_sizes=[10])\n",
    "model.fit(training_dataset, nb_epoch=10)"
   ]
  },
  {
   "cell_type": "code",
   "execution_count": 10,
   "metadata": {},
   "outputs": [
    {
     "name": "stdout",
     "output_type": "stream",
     "text": [
      "Training {'mean-roc_auc_score': 0.8617081529130873}\n",
      "Test {'mean-roc_auc_score': 0.6928166727159947}\n"
     ]
    }
   ],
   "source": [
    "# evaluate performance using ROC (receiver opeating characteristic) AUC across all tasks\n",
    "metric = dc.metrics.Metric(dc.metrics.roc_auc_score, np.mean)\n",
    "\n",
    "# get scores using model.evaluate\n",
    "training_scores = model.evaluate(training_dataset, [metric], transformers)\n",
    "test_scores = model.evaluate(test_dataset, [metric], transformers)\n",
    "\n",
    "print(f\"Training {training_scores}\")\n",
    "print(f\"Test {test_scores}\")"
   ]
  },
  {
   "cell_type": "markdown",
   "metadata": {},
   "source": [
    "# MNIST Case Study\n",
    "In this section, we'll create a new deep learning architecture."
   ]
  },
  {
   "cell_type": "code",
   "execution_count": null,
   "metadata": {},
   "outputs": [],
   "source": []
  },
  {
   "cell_type": "markdown",
   "metadata": {},
   "source": []
  }
 ],
 "metadata": {
  "kernelspec": {
   "display_name": "machine-learning",
   "language": "python",
   "name": "python3"
  },
  "language_info": {
   "codemirror_mode": {
    "name": "ipython",
    "version": 3
   },
   "file_extension": ".py",
   "mimetype": "text/x-python",
   "name": "python",
   "nbconvert_exporter": "python",
   "pygments_lexer": "ipython3",
   "version": "3.9.18"
  },
  "orig_nbformat": 4
 },
 "nbformat": 4,
 "nbformat_minor": 2
}
