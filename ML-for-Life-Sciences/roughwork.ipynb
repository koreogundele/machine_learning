{
 "cells": [
  {
   "cell_type": "markdown",
   "metadata": {},
   "source": [
    "### Code on this notebook is based on Deep Learning for the Life Sciences\n",
    "I am testing code in this notebook before running it as .py"
   ]
  },
  {
   "cell_type": "code",
   "execution_count": 4,
   "metadata": {},
   "outputs": [],
   "source": [
    "import deepchem as dc"
   ]
  },
  {
   "cell_type": "code",
   "execution_count": 5,
   "metadata": {},
   "outputs": [],
   "source": [
    "import tensorflow as tf\n",
    "import tensorflow.keras.layers as layers"
   ]
  },
  {
   "cell_type": "code",
   "execution_count": 9,
   "metadata": {},
   "outputs": [],
   "source": [
    "# load dataset, one hot encode labels\n",
    "(x_train, y_train), (x_test, y_test) = tf.keras.datasets.mnist.load_data()\n",
    "y_train = tf.one_hot(y_train, 10).numpy()\n",
    "y_test = tf.one_hot(y_test, 10).numpy()\n",
    "# construct NumpyDataset object to split training and test sets\n",
    "training_dataset = dc.data.NumpyDataset(x_train, y_train)\n",
    "testing_dataset = dc.data.NumpyDataset(x_test, y_test)"
   ]
  },
  {
   "cell_type": "code",
   "execution_count": 10,
   "metadata": {},
   "outputs": [],
   "source": [
    "features = tf.keras.Input(shape = (28, 28, 1))\n",
    "conv2d_1 = layers.Conv2D(filters = 32,\n",
    "                         kernel_size = 5,\n",
    "                         activation = tf.nn.relu)(features)\n",
    "conv2d_2 = layers.Conv2D(filters = 64,\n",
    "                         kernel_size = 5,\n",
    "                         activation = tf.nn.relu)(conv2d_1)\n",
    "flatten = layers.Flatten()(conv2d_2) # flatten input 2D -> 1D\n",
    "dense1 = layers.Dense(units = 1024,\n",
    "                      activation = tf.nn.relu)(flatten)\n",
    "dense2 = layers.Dense(units = 10,\n",
    "                      activation = None)(dense1)"
   ]
  },
  {
   "cell_type": "code",
   "execution_count": null,
   "metadata": {},
   "outputs": [],
   "source": []
  }
 ],
 "metadata": {
  "kernelspec": {
   "display_name": "machine-learning",
   "language": "python",
   "name": "python3"
  },
  "language_info": {
   "codemirror_mode": {
    "name": "ipython",
    "version": 3
   },
   "file_extension": ".py",
   "mimetype": "text/x-python",
   "name": "python",
   "nbconvert_exporter": "python",
   "pygments_lexer": "ipython3",
   "version": "3.9.18"
  },
  "orig_nbformat": 4
 },
 "nbformat": 4,
 "nbformat_minor": 2
}
